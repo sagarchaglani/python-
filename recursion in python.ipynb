{
 "cells": [
  {
   "cell_type": "code",
   "execution_count": 1,
   "id": "873a32f1",
   "metadata": {},
   "outputs": [],
   "source": [
    "#recursion is calling of funtion itself\n",
    "#Recursive functions make the code look clean and elegant.\n",
    "#A complex task can be broken down into simpler sub-problems using recursion.\n",
    "#Sequence generation is easier with recursion than using some nested iteration\n"
   ]
  },
  {
   "cell_type": "code",
   "execution_count": 17,
   "id": "16217989",
   "metadata": {},
   "outputs": [
    {
     "name": "stdout",
     "output_type": "stream",
     "text": [
      "100\n"
     ]
    }
   ],
   "source": [
    "import sys\n",
    "print(sys.getrecursionlimit())\n",
    "i = 0\n",
    "def myname():\n",
    "    global i\n",
    "    i = i +1\n",
    "    print('java',i)\n",
    "    print('python')\n",
    "    myname()\n",
    "\n"
   ]
  },
  {
   "cell_type": "code",
   "execution_count": 21,
   "id": "d504e8f4",
   "metadata": {},
   "outputs": [
    {
     "name": "stdout",
     "output_type": "stream",
     "text": [
      "4 !\n",
      "3 !\n",
      "2 !\n"
     ]
    },
    {
     "data": {
      "text/plain": [
       "24"
      ]
     },
     "execution_count": 21,
     "metadata": {},
     "output_type": "execute_result"
    }
   ],
   "source": [
    "def factorial(x):\n",
    "    if x ==1:\n",
    "        return 1\n",
    "    else:\n",
    "        print(x, \"!\")\n",
    "        return x*factorial(x-1)\n",
    "factorial(4)\n",
    "    "
   ]
  },
  {
   "cell_type": "code",
   "execution_count": null,
   "id": "614eadd1",
   "metadata": {},
   "outputs": [],
   "source": []
  },
  {
   "cell_type": "code",
   "execution_count": null,
   "id": "23eca038",
   "metadata": {},
   "outputs": [],
   "source": []
  },
  {
   "cell_type": "code",
   "execution_count": null,
   "id": "75e809da",
   "metadata": {},
   "outputs": [],
   "source": []
  }
 ],
 "metadata": {
  "kernelspec": {
   "display_name": "Python 3",
   "language": "python",
   "name": "python3"
  },
  "language_info": {
   "codemirror_mode": {
    "name": "ipython",
    "version": 3
   },
   "file_extension": ".py",
   "mimetype": "text/x-python",
   "name": "python",
   "nbconvert_exporter": "python",
   "pygments_lexer": "ipython3",
   "version": "3.8.8"
  }
 },
 "nbformat": 4,
 "nbformat_minor": 5
}
