{
 "cells": [
  {
   "cell_type": "code",
   "execution_count": 1,
   "id": "4f7c8cb9",
   "metadata": {},
   "outputs": [],
   "source": [
    "#In Python, a function is a group of related statements that performs a specific task. \n",
    "#Functions help break our program into smaller and modular chunks"
   ]
  },
  {
   "cell_type": "code",
   "execution_count": 19,
   "id": "225c0320",
   "metadata": {},
   "outputs": [],
   "source": [
    "def fun1():\n",
    "    print('sagar kumar')\n",
    "    print('alia bhatt')"
   ]
  },
  {
   "cell_type": "code",
   "execution_count": 20,
   "id": "df91ddcc",
   "metadata": {},
   "outputs": [
    {
     "name": "stdout",
     "output_type": "stream",
     "text": [
      "sagar kumar\n",
      "alia bhatt\n"
     ]
    }
   ],
   "source": [
    "fun1()"
   ]
  },
  {
   "cell_type": "code",
   "execution_count": null,
   "id": "7460a652",
   "metadata": {},
   "outputs": [],
   "source": []
  },
  {
   "cell_type": "code",
   "execution_count": 23,
   "id": "1672322c",
   "metadata": {},
   "outputs": [
    {
     "name": "stdout",
     "output_type": "stream",
     "text": [
      "hello sagar\n",
      "good to see you again\n"
     ]
    }
   ],
   "source": [
    "#A parameter is the variable listed inside the parentheses in the function definition.\n",
    "#An argument is the value that is sent to the function when it is called.\n",
    "def greet(name):\n",
    "    print('hello',name)\n",
    "    print('good to see you again')\n",
    "    \n",
    "greet('sagar')\n",
    "\n",
    "\n",
    "\n"
   ]
  },
  {
   "cell_type": "code",
   "execution_count": null,
   "id": "462b1995",
   "metadata": {},
   "outputs": [],
   "source": []
  },
  {
   "cell_type": "code",
   "execution_count": null,
   "id": "dfd7ec28",
   "metadata": {},
   "outputs": [],
   "source": []
  },
  {
   "cell_type": "code",
   "execution_count": null,
   "id": "4cb35f3b",
   "metadata": {},
   "outputs": [],
   "source": []
  },
  {
   "cell_type": "code",
   "execution_count": null,
   "id": "86ed70a0",
   "metadata": {},
   "outputs": [],
   "source": []
  },
  {
   "cell_type": "code",
   "execution_count": 32,
   "id": "0a59e46c",
   "metadata": {},
   "outputs": [
    {
     "name": "stdout",
     "output_type": "stream",
     "text": [
      "9\n"
     ]
    }
   ],
   "source": [
    "def add(a,b):\n",
    "    sum = a+b\n",
    "    return sum\n",
    "sum = add(4,5)\n",
    "print(sum)"
   ]
  },
  {
   "cell_type": "code",
   "execution_count": 37,
   "id": "551ae1a0",
   "metadata": {},
   "outputs": [],
   "source": [
    "def f(x):\n",
    "    return x*1.0\n",
    "\n",
    "\n"
   ]
  },
  {
   "cell_type": "code",
   "execution_count": 40,
   "id": "7b72b962",
   "metadata": {},
   "outputs": [
    {
     "data": {
      "text/plain": [
       "9999.0"
      ]
     },
     "execution_count": 40,
     "metadata": {},
     "output_type": "execute_result"
    }
   ],
   "source": [
    "f(9999)"
   ]
  },
  {
   "cell_type": "code",
   "execution_count": 55,
   "id": "b457ef28",
   "metadata": {},
   "outputs": [
    {
     "name": "stdout",
     "output_type": "stream",
     "text": [
      "Enter height in m8\n",
      "Enter weight in kg55\n",
      "bmi\n",
      "0.859375\n",
      "not overweight\n"
     ]
    }
   ],
   "source": [
    "#BMI calculator\n",
    "height_m = int(input('Enter height in m'))\n",
    "weight_kg = int(input('Enter weight in kg'))\n",
    "def bmi_cal(h,w):\n",
    "    bmi = w/h**2\n",
    "    print('bmi')\n",
    "    print(bmi)\n",
    "    if bmi<25:\n",
    "        return \"not overweight\"\n",
    "    else:\n",
    "         return 'over weight'\n",
    "bmi = bmi_cal(height_m,weight_kg)\n",
    "print(bmi)"
   ]
  },
  {
   "cell_type": "code",
   "execution_count": 56,
   "id": "4df6a937",
   "metadata": {},
   "outputs": [
    {
     "name": "stdout",
     "output_type": "stream",
     "text": [
      "not overweight\n"
     ]
    }
   ],
   "source": [
    "print(bmi)"
   ]
  },
  {
   "cell_type": "code",
   "execution_count": null,
   "id": "fed5b78a",
   "metadata": {},
   "outputs": [],
   "source": []
  },
  {
   "cell_type": "code",
   "execution_count": null,
   "id": "eb1e3bfa",
   "metadata": {},
   "outputs": [],
   "source": []
  },
  {
   "cell_type": "code",
   "execution_count": null,
   "id": "0723d283",
   "metadata": {},
   "outputs": [],
   "source": []
  },
  {
   "cell_type": "code",
   "execution_count": null,
   "id": "6e883df7",
   "metadata": {},
   "outputs": [],
   "source": []
  }
 ],
 "metadata": {
  "kernelspec": {
   "display_name": "Python 3",
   "language": "python",
   "name": "python3"
  },
  "language_info": {
   "codemirror_mode": {
    "name": "ipython",
    "version": 3
   },
   "file_extension": ".py",
   "mimetype": "text/x-python",
   "name": "python",
   "nbconvert_exporter": "python",
   "pygments_lexer": "ipython3",
   "version": "3.8.8"
  }
 },
 "nbformat": 4,
 "nbformat_minor": 5
}
